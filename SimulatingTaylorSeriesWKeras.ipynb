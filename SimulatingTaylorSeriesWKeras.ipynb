{
 "cells": [
  {
   "cell_type": "code",
   "execution_count": 1,
   "metadata": {},
   "outputs": [
    {
     "name": "stderr",
     "output_type": "stream",
     "text": [
      "Using TensorFlow backend.\n"
     ]
    }
   ],
   "source": [
    "import tensorflow as tf\n",
    "from tensorflow.keras.models import Sequential\n",
    "from tensorflow.keras.layers import Dense\n",
    "from random import random\n",
    "import math\n",
    "import numpy as np\n",
    "import matplotlib as mlp\n",
    "import matplotlib.pyplot as plt\n",
    "from sklearn import preprocessing\n",
    "from tensorflow.keras.optimizers import Adam\n",
    "from keras_gradient_noise import add_gradient_noise\n",
    "#from keras import adam"
   ]
  },
  {
   "cell_type": "code",
   "execution_count": 6,
   "metadata": {},
   "outputs": [
    {
     "data": {
      "text/plain": [
       "'2.2.4'"
      ]
     },
     "execution_count": 6,
     "metadata": {},
     "output_type": "execute_result"
    }
   ],
   "source": [
    "import keras\n",
    "keras.__version__"
   ]
  },
  {
   "cell_type": "code",
   "execution_count": 7,
   "metadata": {},
   "outputs": [],
   "source": [
    "model = Sequential()\n",
    "model.add(Dense(1, input_dim=1, activation='sigmoid'))\n",
    "model.add(Dense(1, activation='linear'))\n",
    "model.add(Dense(1, activation='linear'))\n",
    "#model.add(Dense(1, activation='softmax'))"
   ]
  },
  {
   "cell_type": "code",
   "execution_count": 8,
   "metadata": {},
   "outputs": [
    {
     "name": "stdout",
     "output_type": "stream",
     "text": [
      "Model: \"sequential\"\n",
      "_________________________________________________________________\n",
      "Layer (type)                 Output Shape              Param #   \n",
      "=================================================================\n",
      "dense (Dense)                (None, 1)                 2         \n",
      "_________________________________________________________________\n",
      "dense_1 (Dense)              (None, 1)                 2         \n",
      "_________________________________________________________________\n",
      "dense_2 (Dense)              (None, 1)                 2         \n",
      "=================================================================\n",
      "Total params: 6\n",
      "Trainable params: 6\n",
      "Non-trainable params: 0\n",
      "_________________________________________________________________\n"
     ]
    }
   ],
   "source": [
    "model.summary()"
   ]
  },
  {
   "cell_type": "code",
   "execution_count": 11,
   "metadata": {},
   "outputs": [],
   "source": [
    "train_x = [[random()*math.pi] for i in range(10)]\n",
    "train_y = [[math.sin(x[0])] for x in train_x]"
   ]
  },
  {
   "cell_type": "code",
   "execution_count": 12,
   "metadata": {},
   "outputs": [],
   "source": [
    "#NoisyAdam = add_gradient_noise(tf.keras.optimizers.Adam)\n",
    "#model.compile(optimizer=NoisyAdam())"
   ]
  },
  {
   "cell_type": "code",
   "execution_count": 14,
   "metadata": {},
   "outputs": [
    {
     "data": {
      "text/plain": [
       "<tensorflow.python.keras.callbacks.History at 0x1a448f8630>"
      ]
     },
     "execution_count": 14,
     "metadata": {},
     "output_type": "execute_result"
    }
   ],
   "source": [
    "model.compile(loss='mse', optimizer=\"adam\", metrics=['accuracy'])\n",
    "model.fit(np.array(train_x), np.array(train_y), epochs=30, verbose=False)"
   ]
  },
  {
   "cell_type": "code",
   "execution_count": 15,
   "metadata": {},
   "outputs": [
    {
     "data": {
      "text/plain": [
       "array([[ 0.18684443],\n",
       "       [ 0.32822429],\n",
       "       [-0.30772303],\n",
       "       [-0.29076455],\n",
       "       [-0.01380589],\n",
       "       [ 0.08521217],\n",
       "       [ 0.5449614 ],\n",
       "       [-0.05976458],\n",
       "       [ 0.00609259],\n",
       "       [-0.4739127 ]])"
      ]
     },
     "execution_count": 15,
     "metadata": {},
     "output_type": "execute_result"
    }
   ],
   "source": [
    "model.predict(np.array(train_x))[:10]-train_y[:10]"
   ]
  },
  {
   "cell_type": "code",
   "execution_count": 57,
   "metadata": {},
   "outputs": [],
   "source": [
    "import math\n",
    "\n",
    "def func_cos(x, n):\n",
    "    cos_approx = 0\n",
    "    coeffs= []\n",
    "    for i in range(n):\n",
    "        coef = (-1)**i\n",
    "        num = x**(2*i)\n",
    "        denom = math.factorial(2*i)\n",
    "        cos_approx += ( coef ) * ( (num)/(denom) )\n",
    "        coeffs.append(coef/denom)\n",
    "    \n",
    "    return cos_approx,coeffs"
   ]
  },
  {
   "cell_type": "code",
   "execution_count": 102,
   "metadata": {},
   "outputs": [],
   "source": [
    "in1 = tf.keras.layers.Input(shape=(1,))\n",
    "\n",
    "#input2 = keras.layers.Input(shape=(1,))\n",
    "#x2 = keras.layers.Dense(8, activation='relu')(input2)\n",
    "# equivalent to added = keras.layers.add([x1, x2])\n",
    "x1 = tf.keras.layers.Dense(1, kernel_initializer='random_uniform', bias_initializer='random_uniform', activation='linear')(in1)\n",
    "lay1 = tf.keras.layers.multiply([x1, in1])\n",
    "\n",
    "x2 = tf.keras.layers.Dense(1, kernel_initializer='ones', bias_initializer='random_uniform',activation='linear')(lay1)\n",
    "lay2 = tf.keras.layers.multiply([x2, in1])\n",
    "\n",
    "x3 = tf.keras.layers.Dense(1,kernel_initializer='ones', bias_initializer='random_uniform',activation='linear')(lay2)\n",
    "lay3 = tf.keras.layers.multiply([x3, in1])\n",
    "\n",
    "x4 = tf.keras.layers.Dense(1,kernel_initializer='ones', bias_initializer='random_uniform',activation='linear')(lay3)\n",
    "lay4 = tf.keras.layers.multiply([x4, in1])\n",
    "\n",
    "out = tf.keras.layers.Dense(1,activation='linear')(lay4)\n",
    "#x2 = keras.layers.Dense(1,activation='linear')(input1*x1)\n",
    "model = tf.keras.models.Model(inputs=in1, outputs=out)"
   ]
  },
  {
   "cell_type": "code",
   "execution_count": 103,
   "metadata": {},
   "outputs": [
    {
     "name": "stdout",
     "output_type": "stream",
     "text": [
      "Model: \"model_8\"\n",
      "__________________________________________________________________________________________________\n",
      "Layer (type)                    Output Shape         Param #     Connected to                     \n",
      "==================================================================================================\n",
      "input_12 (InputLayer)           [(None, 1)]          0                                            \n",
      "__________________________________________________________________________________________________\n",
      "dense_30 (Dense)                (None, 1)            2           input_12[0][0]                   \n",
      "__________________________________________________________________________________________________\n",
      "multiply_28 (Multiply)          (None, 1)            0           dense_30[0][0]                   \n",
      "                                                                 input_12[0][0]                   \n",
      "__________________________________________________________________________________________________\n",
      "dense_31 (Dense)                (None, 1)            2           multiply_28[0][0]                \n",
      "__________________________________________________________________________________________________\n",
      "multiply_29 (Multiply)          (None, 1)            0           dense_31[0][0]                   \n",
      "                                                                 input_12[0][0]                   \n",
      "__________________________________________________________________________________________________\n",
      "dense_32 (Dense)                (None, 1)            2           multiply_29[0][0]                \n",
      "__________________________________________________________________________________________________\n",
      "multiply_30 (Multiply)          (None, 1)            0           dense_32[0][0]                   \n",
      "                                                                 input_12[0][0]                   \n",
      "__________________________________________________________________________________________________\n",
      "dense_33 (Dense)                (None, 1)            2           multiply_30[0][0]                \n",
      "__________________________________________________________________________________________________\n",
      "multiply_31 (Multiply)          (None, 1)            0           dense_33[0][0]                   \n",
      "                                                                 input_12[0][0]                   \n",
      "__________________________________________________________________________________________________\n",
      "dense_34 (Dense)                (None, 1)            2           multiply_31[0][0]                \n",
      "==================================================================================================\n",
      "Total params: 10\n",
      "Trainable params: 10\n",
      "Non-trainable params: 0\n",
      "__________________________________________________________________________________________________\n"
     ]
    }
   ],
   "source": [
    "model.summary()"
   ]
  },
  {
   "cell_type": "code",
   "execution_count": 47,
   "metadata": {},
   "outputs": [],
   "source": [
    "from tensorflow.keras.layers import Layer\n",
    "class Bias(Layer):\n",
    "    \"\"\"y = w.x + b\"\"\"\n",
    "\n",
    "    def __init__(self, units=32, input_dim=32):\n",
    "        super(Bias, self).__init__()\n",
    "        w_init = tf.random_uniform_initializer()\n",
    "        self.w = tf.Variable(\n",
    "            initial_value=w_init(shape=(input_dim, units), dtype='float32'),\n",
    "            trainable=True)\n",
    "        b_init = tf.random_uniform_initializer()\n",
    "        self.b = tf.Variable(\n",
    "            initial_value=b_init(shape=(units,), dtype='float32'),\n",
    "            trainable=True)\n",
    "\n",
    "def call(self, inputs):\n",
    "        return tf.matmul(inputs, self.w) + self.b"
   ]
  },
  {
   "cell_type": "code",
   "execution_count": 48,
   "metadata": {},
   "outputs": [],
   "source": [
    "in1 = tf.keras.layers.Input(shape=(1,))\n",
    "\n",
    "#input2 = keras.layers.Input(shape=(1,))\n",
    "#x2 = keras.layers.Dense(8, activation='relu')(input2)\n",
    "# equivalent to added = keras.layers.add([x1, x2])\n",
    "#y1 = tf.keras.layers.Dense(1, kernel_initializer='random_uniform', bias_initializer='random_uniform', activation='linear')(in1)\n",
    "y1 = Bias(1,1)(in1)\n",
    "nlay1 = tf.keras.layers.multiply([y1, in1])\n",
    "\n",
    "y2 = Bias(1,1)(nlay1)\n",
    "nlay2 = tf.keras.layers.multiply([y2, in1])\n",
    "\n",
    "y3 = Bias(1,1)(nlay2)\n",
    "nlay3 = tf.keras.layers.multiply([y3, in1])\n",
    "\n",
    "#x4 = keras.layers.Dense(1,kernel_initializer='ones', bias_initializer='random_uniform',activation='linear')(lay3)\n",
    "#lay4 = keras.layers.multiply([x4, in1])\n",
    "\n",
    "out =  tf.keras.layers.Dense(1, kernel_initializer='random_uniform', \n",
    "                             bias_initializer='random_uniform', activation='linear')(nlay3)\n",
    "#out = Bias(1,1)(nlay3)\n",
    "#x2 = keras.layers.Dense(1,activation='linear')(input1*x1)\n",
    "nmodel = tf.keras.models.Model(inputs=in1, outputs=out)"
   ]
  },
  {
   "cell_type": "code",
   "execution_count": 49,
   "metadata": {},
   "outputs": [
    {
     "name": "stdout",
     "output_type": "stream",
     "text": [
      "Model: \"model_4\"\n",
      "__________________________________________________________________________________________________\n",
      "Layer (type)                    Output Shape         Param #     Connected to                     \n",
      "==================================================================================================\n",
      "input_8 (InputLayer)            [(None, 1)]          0                                            \n",
      "__________________________________________________________________________________________________\n",
      "bias_12 (Bias)                  (None, 1)            2           input_8[0][0]                    \n",
      "__________________________________________________________________________________________________\n",
      "multiply_13 (Multiply)          (None, 1)            0           bias_12[0][0]                    \n",
      "                                                                 input_8[0][0]                    \n",
      "__________________________________________________________________________________________________\n",
      "bias_13 (Bias)                  (None, 1)            2           multiply_13[0][0]                \n",
      "__________________________________________________________________________________________________\n",
      "multiply_14 (Multiply)          (None, 1)            0           bias_13[0][0]                    \n",
      "                                                                 input_8[0][0]                    \n",
      "__________________________________________________________________________________________________\n",
      "bias_14 (Bias)                  (None, 1)            2           multiply_14[0][0]                \n",
      "__________________________________________________________________________________________________\n",
      "multiply_15 (Multiply)          (None, 1)            0           bias_14[0][0]                    \n",
      "                                                                 input_8[0][0]                    \n",
      "__________________________________________________________________________________________________\n",
      "dense_11 (Dense)                (None, 1)            2           multiply_15[0][0]                \n",
      "==================================================================================================\n",
      "Total params: 8\n",
      "Trainable params: 8\n",
      "Non-trainable params: 0\n",
      "__________________________________________________________________________________________________\n"
     ]
    }
   ],
   "source": [
    "nmodel.summary()"
   ]
  },
  {
   "cell_type": "code",
   "execution_count": 50,
   "metadata": {},
   "outputs": [],
   "source": [
    "train_x = [[2*random()*math.pi] for i in range(100)]\n",
    "train_y = [[math.cos(x[0])] for x in train_x]"
   ]
  },
  {
   "cell_type": "code",
   "execution_count": 65,
   "metadata": {},
   "outputs": [
    {
     "name": "stderr",
     "output_type": "stream",
     "text": [
      "W0216 13:48:21.193745 4700079552 optimizer_v2.py:1029] Gradients do not exist for variables ['Variable:0', 'Variable:0', 'Variable:0', 'Variable:0', 'Variable:0', 'Variable:0'] when minimizing the loss.\n",
      "W0216 13:48:21.338303 4700079552 optimizer_v2.py:1029] Gradients do not exist for variables ['Variable:0', 'Variable:0', 'Variable:0', 'Variable:0', 'Variable:0', 'Variable:0'] when minimizing the loss.\n"
     ]
    },
    {
     "data": {
      "text/plain": [
       "<tensorflow.python.keras.callbacks.History at 0x1a45fb9eb8>"
      ]
     },
     "execution_count": 65,
     "metadata": {},
     "output_type": "execute_result"
    }
   ],
   "source": [
    "nmodel.compile(loss='mse', optimizer='nadam', metrics=['accuracy'])\n",
    "nmodel.fit(np.array(train_x), np.array(train_y), epochs=10, verbose=False)"
   ]
  },
  {
   "cell_type": "code",
   "execution_count": 66,
   "metadata": {},
   "outputs": [
    {
     "data": {
      "text/plain": [
       "[array([[0.04724411]], dtype=float32),\n",
       " array([0.00677318], dtype=float32),\n",
       " array([[-0.04033785]], dtype=float32),\n",
       " array([-0.01625122], dtype=float32),\n",
       " array([[-0.01448733]], dtype=float32),\n",
       " array([-0.02033181], dtype=float32),\n",
       " array([[-0.01547188]], dtype=float32),\n",
       " array([-0.11310187], dtype=float32)]"
      ]
     },
     "execution_count": 66,
     "metadata": {},
     "output_type": "execute_result"
    }
   ],
   "source": [
    "nmodel.get_weights()"
   ]
  },
  {
   "cell_type": "code",
   "execution_count": 67,
   "metadata": {},
   "outputs": [
    {
     "data": {
      "text/plain": [
       "[<matplotlib.lines.Line2D at 0x1a46dd40f0>]"
      ]
     },
     "execution_count": 67,
     "metadata": {},
     "output_type": "execute_result"
    },
    {
     "data": {
      "image/png": "[encoded data removed]",
      "text/plain": [
       "<Figure size 432x288 with 1 Axes>"
      ]
     },
     "metadata": {
      "needs_background": "light"
     },
     "output_type": "display_data"
    }
   ],
   "source": [
    "plt.plot(train_x,train_y,'o')\n",
    "plt.plot(train_x,nmodel.predict(np.array(train_x)),'o')"
   ]
  },
  {
   "cell_type": "code",
   "execution_count": 181,
   "metadata": {
    "scrolled": true
   },
   "outputs": [
    {
     "data": {
      "text/plain": [
       "[<matplotlib.lines.Line2D at 0x1a6648d9b0>]"
      ]
     },
     "execution_count": 181,
     "metadata": {},
     "output_type": "execute_result"
    },
    {
     "data": {
      "image/png": "[encoded data removed]",
      "text/plain": [
       "<Figure size 432x288 with 1 Axes>"
      ]
     },
     "metadata": {
      "needs_background": "light"
     },
     "output_type": "display_data"
    }
   ],
   "source": [
    "test_x = [[random()*math.pi] for i in range(1000)]\n",
    "test_y = [nmodel.predict(x) for x in test_x]\n",
    "plt.plot(test_x,[y[0] for y in test_y],'o')"
   ]
  },
  {
   "cell_type": "code",
   "execution_count": 101,
   "metadata": {},
   "outputs": [
    {
     "name": "stdout",
     "output_type": "stream",
     "text": [
      "Train on 100 samples\n",
      "Epoch 1/10\n",
      "100/100 [==============================] - 0s 4ms/sample - loss: nan - accuracy: 0.0000e+00\n",
      "Epoch 2/10\n",
      "100/100 [==============================] - 0s 84us/sample - loss: nan - accuracy: 0.0000e+00\n",
      "Epoch 3/10\n",
      "100/100 [==============================] - 0s 82us/sample - loss: nan - accuracy: 0.0000e+00\n",
      "Epoch 4/10\n",
      "100/100 [==============================] - 0s 75us/sample - loss: nan - accuracy: 0.0000e+00\n",
      "Epoch 5/10\n",
      "100/100 [==============================] - 0s 79us/sample - loss: nan - accuracy: 0.0000e+00\n",
      "Epoch 6/10\n",
      "100/100 [==============================] - 0s 74us/sample - loss: nan - accuracy: 0.0000e+00\n",
      "Epoch 7/10\n",
      "100/100 [==============================] - 0s 81us/sample - loss: nan - accuracy: 0.0000e+00\n",
      "Epoch 8/10\n",
      "100/100 [==============================] - 0s 77us/sample - loss: nan - accuracy: 0.0000e+00\n",
      "Epoch 9/10\n",
      "100/100 [==============================] - 0s 74us/sample - loss: nan - accuracy: 0.0000e+00\n",
      "Epoch 10/10\n",
      "100/100 [==============================] - 0s 74us/sample - loss: nan - accuracy: 0.0000e+00\n"
     ]
    },
    {
     "data": {
      "text/plain": [
       "<tensorflow.python.keras.callbacks.History at 0x1a990659b0>"
      ]
     },
     "execution_count": 101,
     "metadata": {},
     "output_type": "execute_result"
    }
   ],
   "source": [
    "model.compile(loss='mse', optimizer='adam', metrics=['accuracy'])\n",
    "model.fit(np.array(train_x), np.array(train_y), epochs=10, verbose=True)"
   ]
  },
  {
   "cell_type": "code",
   "execution_count": 108,
   "metadata": {},
   "outputs": [
    {
     "data": {
      "text/plain": [
       "[array([-57.227505], dtype=float32),\n",
       " array([-83.323166], dtype=float32),\n",
       " array([-378.06097], dtype=float32),\n",
       " array([-12.596513], dtype=float32),\n",
       " array([-71.548294], dtype=float32),\n",
       " array([-367.35968], dtype=float32),\n",
       " array([-180.3069], dtype=float32),\n",
       " array([-566.0719], dtype=float32),\n",
       " array([-107.859375], dtype=float32),\n",
       " array([-111.932434], dtype=float32),\n",
       " array([-2.5890534], dtype=float32),\n",
       " array([-108.11266], dtype=float32),\n",
       " array([-433.34763], dtype=float32),\n",
       " array([-293.8367], dtype=float32),\n",
       " array([-538.69885], dtype=float32),\n",
       " array([-43.416553], dtype=float32),\n",
       " array([-39.573383], dtype=float32),\n",
       " array([-86.364586], dtype=float32),\n",
       " array([-3.4390895], dtype=float32),\n",
       " array([-21.532728], dtype=float32),\n",
       " array([-577.13275], dtype=float32),\n",
       " array([-217.70926], dtype=float32),\n",
       " array([-327.54816], dtype=float32),\n",
       " array([-15.364233], dtype=float32),\n",
       " array([-3.2520888], dtype=float32),\n",
       " array([-16.982193], dtype=float32),\n",
       " array([-14.427876], dtype=float32),\n",
       " array([-3.1739917], dtype=float32),\n",
       " array([-593.7508], dtype=float32),\n",
       " array([-144.4164], dtype=float32),\n",
       " array([-312.00253], dtype=float32),\n",
       " array([-522.5266], dtype=float32),\n",
       " array([-172.41605], dtype=float32),\n",
       " array([-609.5679], dtype=float32),\n",
       " array([-192.08858], dtype=float32),\n",
       " array([-35.019947], dtype=float32),\n",
       " array([-49.454494], dtype=float32),\n",
       " array([-490.98227], dtype=float32),\n",
       " array([-145.5207], dtype=float32),\n",
       " array([-2.6872716], dtype=float32),\n",
       " array([-57.07164], dtype=float32),\n",
       " array([-252.10527], dtype=float32),\n",
       " array([-2.7465444], dtype=float32),\n",
       " array([-25.05812], dtype=float32),\n",
       " array([-556.6099], dtype=float32),\n",
       " array([-544.3593], dtype=float32),\n",
       " array([-351.08734], dtype=float32),\n",
       " array([-56.197777], dtype=float32),\n",
       " array([-8.001007], dtype=float32),\n",
       " array([-460.63086], dtype=float32),\n",
       " array([-585.5167], dtype=float32),\n",
       " array([-3.2524557], dtype=float32),\n",
       " array([-418.78198], dtype=float32),\n",
       " array([-223.48698], dtype=float32),\n",
       " array([-16.455078], dtype=float32),\n",
       " array([-345.41766], dtype=float32),\n",
       " array([-274.02203], dtype=float32),\n",
       " array([-27.526665], dtype=float32),\n",
       " array([-409.40454], dtype=float32),\n",
       " array([-420.03806], dtype=float32),\n",
       " array([-174.33269], dtype=float32),\n",
       " array([-42.211327], dtype=float32),\n",
       " array([-3.527897], dtype=float32),\n",
       " array([-18.516048], dtype=float32),\n",
       " array([-65.92018], dtype=float32),\n",
       " array([-68.96044], dtype=float32),\n",
       " array([-3.8091426], dtype=float32),\n",
       " array([-31.767422], dtype=float32),\n",
       " array([-263.75916], dtype=float32),\n",
       " array([-234.74158], dtype=float32),\n",
       " array([-2.6309748], dtype=float32),\n",
       " array([-92.93865], dtype=float32),\n",
       " array([-66.77897], dtype=float32),\n",
       " array([-3.3800128], dtype=float32),\n",
       " array([-128.78789], dtype=float32),\n",
       " array([-96.45322], dtype=float32),\n",
       " array([-184.919], dtype=float32),\n",
       " array([-465.21146], dtype=float32),\n",
       " array([-239.42622], dtype=float32),\n",
       " array([-200.06108], dtype=float32),\n",
       " array([-30.088917], dtype=float32),\n",
       " array([-327.1116], dtype=float32),\n",
       " array([-78.24306], dtype=float32),\n",
       " array([-264.91528], dtype=float32),\n",
       " array([-512.41406], dtype=float32),\n",
       " array([-222.72656], dtype=float32),\n",
       " array([-517.5624], dtype=float32),\n",
       " array([-475.82208], dtype=float32),\n",
       " array([-45.453545], dtype=float32),\n",
       " array([-16.281958], dtype=float32),\n",
       " array([-81.895744], dtype=float32),\n",
       " array([-341.7786], dtype=float32),\n",
       " array([-24.945068], dtype=float32),\n",
       " array([-122.07829], dtype=float32),\n",
       " array([-14.104606], dtype=float32),\n",
       " array([-3.9339342], dtype=float32),\n",
       " array([-399.60434], dtype=float32),\n",
       " array([-356.62195], dtype=float32),\n",
       " array([-3.44726], dtype=float32),\n",
       " array([-188.67027], dtype=float32)]"
      ]
     },
     "execution_count": 108,
     "metadata": {},
     "output_type": "execute_result"
    }
   ],
   "source": [
    "[model.predict(x)[0] for x in test_x]"
   ]
  },
  {
   "cell_type": "code",
   "execution_count": 112,
   "metadata": {},
   "outputs": [
    {
     "data": {
      "image/png": "[encoded data removed]",
      "text/plain": [
       "<Figure size 432x288 with 1 Axes>"
      ]
     },
     "metadata": {
      "needs_background": "light"
     },
     "output_type": "display_data"
    }
   ],
   "source": [
    "train_x = [[random()*math.pi] for i in range(100)]\n",
    "train_y = [[math.cos(x[0])*(x[0]**2)] for x in train_x]\n",
    "model.compile(loss='mse', optimizer='nadam', metrics=['accuracy'])\n",
    "model.fit(np.array(train_x), np.array(train_y), epochs=1000, verbose=False)\n",
    "test_x = [[random()*math.pi] for i in range(100)]\n",
    "plt.plot(train_x,train_y,'o',label='training')\n",
    "#plt.plot(test_x,[math.cos(x[0]) for x in test_x],'o',label='exact')\n",
    "#plt.plot(test_x,[func_cos(x[0],3)[0] for x in test_x],'o', label='Taylor')\n",
    "plt.plot(test_x,[model.predict(x)[0] for x in test_x],'o',label='trained')\n",
    "plt.legend(loc=\"upper right\")\n",
    "plt.ylim(-2, 2.0)\n",
    "plt.show()"
   ]
  },
  {
   "cell_type": "code",
   "execution_count": 549,
   "metadata": {},
   "outputs": [
    {
     "data": {
      "text/plain": [
       "array([[-0.11394488]], dtype=float32)"
      ]
     },
     "execution_count": 549,
     "metadata": {},
     "output_type": "execute_result"
    }
   ],
   "source": [
    "weights = model.layers[-7].get_weights()[0]\n",
    "weights"
   ]
  },
  {
   "cell_type": "code",
   "execution_count": 525,
   "metadata": {},
   "outputs": [
    {
     "data": {
      "text/plain": [
       "[<matplotlib.lines.Line2D at 0x65a43ea90>]"
      ]
     },
     "execution_count": 525,
     "metadata": {},
     "output_type": "execute_result"
    },
    {
     "data": {
      "image/png": "[encoded data removed]",
      "text/plain": [
       "<Figure size 432x288 with 1 Axes>"
      ]
     },
     "metadata": {},
     "output_type": "display_data"
    }
   ],
   "source": [
    "plt.plot(test_x,[-0.572*x[0]*(1.01*x[0]*(-0.102*x[0]+0.731)+0.153)+1.021 for x in test_x], \"o\")\n",
    "plt.plot(test_x,[model.predict(x)[0] for x in test_x],'o',label='trained')"
   ]
  },
  {
   "cell_type": "code",
   "execution_count": 72,
   "metadata": {},
   "outputs": [],
   "source": [
    "import sklearn\n",
    "from sklearn"
   ]
  },
  {
   "cell_type": "code",
   "execution_count": 78,
   "metadata": {},
   "outputs": [],
   "source": [
    "n = 5\n",
    "poly = sklearn.preprocessing.PolynomialFeatures(degree=n)\n",
    "x_poly = poly.fit_transform(np.array(train_x).reshape(-1,1))"
   ]
  },
  {
   "cell_type": "code",
   "execution_count": 79,
   "metadata": {},
   "outputs": [],
   "source": [
    "poly_model = Sequential([Dense(units=1, input_shape=[n+1])])\n",
    "poly_optimizer = tf.keras.optimizers.Adam(lr=1e-3)\n",
    "poly_model.compile(optimizer=poly_optimizer, loss='mse')\n",
    "history = poly_model.fit(x_poly, np.array(train_y), epochs=100, verbose=False)"
   ]
  },
  {
   "cell_type": "code",
   "execution_count": 80,
   "metadata": {},
   "outputs": [],
   "source": [
    "mse = history.history['loss'][-1]\n",
    "y_result = poly_model.predict(x_poly)"
   ]
  },
  {
   "cell_type": "code",
   "execution_count": 81,
   "metadata": {},
   "outputs": [
    {
     "data": {
      "image/png": "[encoded data removed]",
      "text/plain": [
       "<Figure size 432x288 with 1 Axes>"
      ]
     },
     "metadata": {
      "needs_background": "light"
     },
     "output_type": "display_data"
    }
   ],
   "source": [
    "plt.title('Polynomial Regression')\n",
    "plt.plot(x_poly[:, 1], train_y,'o',color = 'blue')\n",
    "plt.plot(x_poly[:, 1], poly_model.predict(x_poly),'o', color = 'green')\n",
    "plt.plot(x_poly[:, 1], model.predict(np.array([[x] for x in x_poly[:, 1]])),'o', color = 'red')\n",
    "plt.xlabel('x')\n",
    "plt.ylabel('y')\n",
    "plt.text(0,0.70,'MSE = {:.3f}'.format(mse))\n",
    "plt.show()"
   ]
  },
  {
   "cell_type": "code",
   "execution_count": null,
   "metadata": {},
   "outputs": [],
   "source": []
  }
 ],
 "metadata": {
  "kernelspec": {
   "display_name": "Python 3",
   "language": "python",
   "name": "python3"
  },
  "language_info": {
   "codemirror_mode": {
    "name": "ipython",
    "version": 3
   },
   "file_extension": ".py",
   "mimetype": "text/x-python",
   "name": "python",
   "nbconvert_exporter": "python",
   "pygments_lexer": "ipython3",
   "version": "3.6.8"
  }
 },
 "nbformat": 4,
 "nbformat_minor": 2
}
